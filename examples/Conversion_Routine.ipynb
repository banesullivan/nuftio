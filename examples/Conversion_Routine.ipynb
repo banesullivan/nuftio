{
 "cells": [
  {
   "cell_type": "code",
   "execution_count": 1,
   "metadata": {},
   "outputs": [],
   "source": [
    "import pandas as pd\n",
    "import numpy as np\n",
    "import matplotlib.pyplot as plt"
   ]
  },
  {
   "cell_type": "code",
   "execution_count": 2,
   "metadata": {},
   "outputs": [],
   "source": [
    "# import W-Team specific packages\n",
    "import sys\n",
    "sys.path.append('../')\n",
    "import nuftio"
   ]
  },
  {
   "cell_type": "code",
   "execution_count": 39,
   "metadata": {},
   "outputs": [],
   "source": [
    "# Working directory stuff\n",
    "import sys, os\n",
    "PATH = '/Users/bane/Documents/school/Masters/RESEARCH/LLNL/Kimberlina1.2/prod07-sim0100-sim00199/'\n",
    "\n",
    "SIM_DIR = r'sim01{:02}'\n",
    "MESH_NAME = r'sim01{:02}.mesh_k16.prod07.trans.genmsh'\n",
    "TMESH_NAME = r'sim01{:02}_mesh.json'\n",
    "TARGET_DIR = 'W31-0.2'\n",
    "ROCKTAB_NAME = r'sim01{:02}.usnt.rocktab'\n",
    "\n",
    "\n",
    "\n",
    "def getSimDirName(sim):\n",
    "     return os.path.join(PATH, SIM_DIR.format(sim))\n",
    "\n",
    "def getMeshName(sim):\n",
    "    return os.path.join(getSimDirName(sim), MESH_NAME.format(sim))\n",
    "\n",
    "def getTMeshName(sim):\n",
    "    return os.path.join(getSimDirName(sim), TMESH_NAME.format(sim))\n",
    "\n",
    "def getRockTabName(sim):\n",
    "    return os.path.join(os.path.join(getSimDirName(sim), TARGET_DIR), ROCKTAB_NAME.format(sim))\n",
    "\n",
    "def getLookupTableName(sim):\n",
    "    return os.path.join(getSimDirName(sim), 'lookup_table.csv')\n",
    "\n",
    "def getLithDefName(sim):\n",
    "    return os.path.join(getSimDirName(sim), 'lithologies.txt')\n",
    "\n",
    "def getTargetDirName(sim):\n",
    "    return os.path.join(getSimDirName(sim), TARGET_DIR)\n",
    "\n",
    "def getLithMapName(sim):\n",
    "    return os.path.join(getTargetDirName(sim), 'rocktab_mapper.csv')"
   ]
  },
  {
   "cell_type": "code",
   "execution_count": 42,
   "metadata": {},
   "outputs": [],
   "source": [
    "# for each directory\n",
    "def routine(sim):\n",
    "    print('On simulation directory: {}'.format(getSimDirName(sim)))\n",
    "    # find/get the genmsh file\n",
    "    fname_mesh = getMeshName(sim)\n",
    "    # find/get the rocktab file name\n",
    "    fname_rtab = getRockTabName(sim)\n",
    "    # read/pars the usnt into a TensorMesh\n",
    "    usnt = nuftio.read_usnt(fname_mesh, fname_rtab)\n",
    "    mesh = usnt.toTensorMesh()\n",
    "    litho = usnt.definitions\n",
    "    # save defintions array, lookup table, and serialized tensor mesh in that directory\n",
    "    mesh.save(getTMeshName(sim))\n",
    "    usnt.lookup_table.to_csv(getLookupTableName(sim), index=False)\n",
    "    np.savetxt(getLithDefName(sim), usnt.definitions, fmt='%d', header='{} Lithologies'.format(SIM_DIR.format(sim)), comments='! ')\n",
    "    # convert the rock tab file to a lithology definitons file\n",
    "    usnt.saveLithLookupTable(getLithMapName(sim))\n",
    "    # Optional - convert ntab grids to model dictionarys of flow through time\n",
    "    return True"
   ]
  },
  {
   "cell_type": "code",
   "execution_count": null,
   "metadata": {},
   "outputs": [],
   "source": [
    "# TODO: parallelize this\n",
    "# for sim in range(100):\n",
    "#     routine(sim)"
   ]
  },
  {
   "cell_type": "code",
   "execution_count": null,
   "metadata": {},
   "outputs": [],
   "source": []
  }
 ],
 "metadata": {
  "kernelspec": {
   "display_name": "Python [conda env:ogv]",
   "language": "python",
   "name": "conda-env-ogv-py"
  },
  "language_info": {
   "codemirror_mode": {
    "name": "ipython",
    "version": 3
   },
   "file_extension": ".py",
   "mimetype": "text/x-python",
   "name": "python",
   "nbconvert_exporter": "python",
   "pygments_lexer": "ipython3",
   "version": "3.6.5"
  }
 },
 "nbformat": 4,
 "nbformat_minor": 2
}
